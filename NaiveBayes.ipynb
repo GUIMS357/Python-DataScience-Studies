{
 "cells": [
  {
   "cell_type": "code",
   "execution_count": null,
   "metadata": {},
   "outputs": [],
   "source": [
    "# lib import\n",
    "import pandas as pd\n",
    "from sklearn.model_selection import train_test_split\n",
    "from sklearn.naive_bayes import GaussianNB\n",
    "from sklearn.preprocessing import LabelEncoder\n",
    "from sklearn.metrics import confusion_matrix, accuracy_score\n",
    "from yellowbrick.classifier import ConfusionMatrix "
   ]
  },
  {
   "cell_type": "code",
   "execution_count": null,
   "metadata": {},
   "outputs": [
    {
     "data": {
      "text/plain": [
       "(1000, 21)"
      ]
     },
     "execution_count": 9,
     "metadata": {},
     "output_type": "execute_result"
    }
   ],
   "source": [
    "# Loading database\n",
    "credit = pd.read_csv('Credit.csv')\n",
    "credit.shape"
   ]
  },
  {
   "cell_type": "code",
   "execution_count": null,
   "metadata": {},
   "outputs": [],
   "source": [
    "credit.head()"
   ]
  },
  {
   "cell_type": "code",
   "execution_count": null,
   "metadata": {},
   "outputs": [],
   "source": [
    "# matrix format\n",
    "predictors = credit.iloc[:,0:20].values\n",
    "classe = credit.iloc[:,20].values"
   ]
  },
  {
   "cell_type": "code",
   "execution_count": null,
   "metadata": {},
   "outputs": [],
   "source": [
    "# transforming categorical in numeric\n",
    "# creating one object to each attribute to encode again after \n",
    "labelencoder1 = LabelEncoder()\n",
    "predictors[:,0] = labelencoder1.fit_transform(predictors[:,0])\n",
    "\n",
    "labelencoder2 = LabelEncoder()\n",
    "predictors[:,2] = labelencoder2.fit_transform(predictors[:,2])\n",
    "\n",
    "labelencoder3 = LabelEncoder()\n",
    "predictors[:, 3] = labelencoder3.fit_transform(predictors[:, 3])\n",
    "\n",
    "labelencoder4 = LabelEncoder()\n",
    "predictors[:, 5] = labelencoder4.fit_transform(predictors[:, 5])\n",
    "\n",
    "labelencoder5 = LabelEncoder()\n",
    "predictors[:, 6] = labelencoder5.fit_transform(predictors[:, 6])\n",
    "\n",
    "labelencoder6 = LabelEncoder()\n",
    "predictors[:, 8] = labelencoder6.fit_transform(predictors[:, 8])\n",
    "\n",
    "labelencoder7 = LabelEncoder()\n",
    "predictors[:, 9] = labelencoder7.fit_transform(predictors[:, 9])\n",
    "\n",
    "labelencoder8 = LabelEncoder()\n",
    "predictors[:, 11] = labelencoder8.fit_transform(predictors[:, 11])\n",
    "\n",
    "labelencoder9 = LabelEncoder()\n",
    "predictors[:, 13] = labelencoder9.fit_transform(predictors[:, 13])\n",
    "\n",
    "labelencoder10 = LabelEncoder()\n",
    "predictors[:, 14] = labelencoder10.fit_transform(predictors[:, 14])\n",
    "\n",
    "labelencoder11 = LabelEncoder()\n",
    "predictors[:, 16] = labelencoder11.fit_transform(predictors[:, 16])\n",
    "\n",
    "labelencoder12 = LabelEncoder()\n",
    "predictors[:, 18] = labelencoder12.fit_transform(predictors[:, 18])\n",
    "\n",
    "labelencoder13 = LabelEncoder()\n",
    "predictors[:, 19] = labelencoder13.fit_transform(predictors[:, 19])"
   ]
  },
  {
   "cell_type": "code",
   "execution_count": null,
   "metadata": {},
   "outputs": [],
   "source": [
    "# split between training e test (30%/70%)\n",
    "X_training, X_test, y_training, y_test = train_test_split(predictors,\n",
    "                                                                  classe,\n",
    "                                                                  test_size = 0.3,\n",
    "                                                                  random_state = 0)\n",
    "X_test"
   ]
  },
  {
   "cell_type": "code",
   "execution_count": null,
   "metadata": {},
   "outputs": [
    {
     "data": {
      "text/plain": [
       "GaussianNB()"
      ]
     },
     "execution_count": 14,
     "metadata": {},
     "output_type": "execute_result"
    }
   ],
   "source": [
    "# create traning model (geração da tabela de probabilidades)\n",
    "naive_bayes = GaussianNB()\n",
    "naive_bayes.fit(X_training, y_training)"
   ]
  },
  {
   "cell_type": "code",
   "execution_count": null,
   "metadata": {},
   "outputs": [],
   "source": [
    "# previsions using test \n",
    "prevision = naive_bayes.predict(X_test)\n",
    "prevision"
   ]
  },
  {
   "cell_type": "code",
   "execution_count": null,
   "metadata": {},
   "outputs": [
    {
     "data": {
      "text/plain": [
       "array([[ 41,  45],\n",
       "       [ 42, 172]])"
      ]
     },
     "execution_count": 16,
     "metadata": {},
     "output_type": "execute_result"
    }
   ],
   "source": [
    "#confusion matrix and hitrate/missrate calculation\n",
    "confusion = confusion_matrix(y_test, prevision)\n",
    "confusion"
   ]
  },
  {
   "cell_type": "code",
   "execution_count": null,
   "metadata": {},
   "outputs": [
    {
     "data": {
      "text/plain": [
       "0.71"
      ]
     },
     "execution_count": 17,
     "metadata": {},
     "output_type": "execute_result"
    }
   ],
   "source": [
    "hitrate = accuracy_score(y_test, prevision)\n",
    "missrate = 1 - hitrate\n",
    "hitrate"
   ]
  },
  {
   "cell_type": "code",
   "execution_count": null,
   "metadata": {},
   "outputs": [],
   "source": [
    "# confusion matrix view \n",
    "v = ConfusionMatrix(GaussianNB())\n",
    "v.fit(X_training, y_training)\n",
    "v.score(X_test, y_test)\n",
    "v.poof()"
   ]
  },
  {
   "cell_type": "code",
   "execution_count": null,
   "metadata": {},
   "outputs": [
    {
     "data": {
      "text/plain": [
       "(1, 20)"
      ]
     },
     "execution_count": 19,
     "metadata": {},
     "output_type": "execute_result"
    }
   ],
   "source": [
    "# predictinh new register, categorical attributes changed to numerical\n",
    "new_credit = pd.read_csv('NewCredit.csv')\n",
    "new_credit.shape\n",
    "#new_credit"
   ]
  },
  {
   "cell_type": "code",
   "execution_count": null,
   "metadata": {},
   "outputs": [],
   "source": [
    "# Using same objects \n",
    "# only call transfomr because data is ajusted \n",
    "new_credit = new_credit.iloc[:,0:20].values\n",
    "new_credit[:,0] = labelencoder1.transform(new_credit[:,0])\n",
    "new_credit[:, 2] = labelencoder2.transform(new_credit[:, 2])\n",
    "new_credit[:, 3] = labelencoder3.transform(new_credit[:, 3])\n",
    "new_credit[:, 5] = labelencoder4.transform(new_credit[:, 5])\n",
    "new_credit[:, 6] = labelencoder5.transform(new_credit[:, 6])\n",
    "new_credit[:, 8] = labelencoder6.transform(new_credit[:, 8])\n",
    "new_credit[:, 9] = labelencoder7.transform(new_credit[:, 9])\n",
    "new_credit[:, 11] = labelencoder8.transform(new_credit[:, 11])\n",
    "new_credit[:, 13] = labelencoder9.transform(new_credit[:, 13])\n",
    "new_credit[:, 14] = labelencoder10.transform(new_credit[:, 14])\n",
    "new_credit[:, 16] = labelencoder11.transform(new_credit[:, 16])\n",
    "new_credit[:, 18] = labelencoder12.transform(new_credit[:, 18])\n",
    "new_credit[:, 19] = labelencoder13.transform(new_credit[:, 19])"
   ]
  },
  {
   "cell_type": "code",
   "execution_count": null,
   "metadata": {
    "lines_to_next_cell": 2
   },
   "outputs": [],
   "source": [
    "# result\n",
    "naive_bayes.predict(new_credit)"
   ]
  }
 ],
 "metadata": {
  "jupytext": {
   "cell_metadata_filter": "-all",
   "main_language": "python",
   "notebook_metadata_filter": "-all"
  },
  "kernelspec": {
   "display_name": "Python 3",
   "language": "python",
   "name": "python3"
  },
  "language_info": {
   "codemirror_mode": {
    "name": "ipython",
    "version": 3
   },
   "file_extension": ".py",
   "mimetype": "text/x-python",
   "name": "python",
   "nbconvert_exporter": "python",
   "pygments_lexer": "ipython3",
   "version": "3.10.1"
  }
 },
 "nbformat": 4,
 "nbformat_minor": 4
}
