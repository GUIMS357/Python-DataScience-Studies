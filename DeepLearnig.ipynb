{
 "cells": [
  {
   "cell_type": "code",
   "execution_count": null,
   "metadata": {},
   "outputs": [],
   "source": [
    "# lib import\n",
    "import matplotlib.pyplot as plt\n",
    "from keras.models import Sequential\n",
    "from keras.layers import Dense, Dropout\n",
    "from keras.utils import np_utils\n",
    "import numpy as np\n",
    "from sklearn.metrics import confusion_matrix\n",
    "from keras.datasets import mnist\n",
    "#pip install tensorflow (executar no Anaconda Prompt)"
   ]
  },
  {
   "cell_type": "code",
   "execution_count": null,
   "metadata": {},
   "outputs": [],
   "source": [
    "# getting data and auto division between training and test\n",
    "(X_training, y_training), (X_test, y_test) = mnist.load_data()\n",
    "# specific images view \n",
    "plt.imshow(X_training[21], cmap = 'gray')\n",
    "plt.title(y_training[21])"
   ]
  },
  {
   "cell_type": "code",
   "execution_count": null,
   "metadata": {},
   "outputs": [],
   "source": [
    "# changing dimensions \n",
    "X_training = X_training.reshape((len(X_training), np.prod(X_training.shape[1:])))\n",
    "X_test = X_test.reshape((len(X_test), np.prod(X_test.shape[1:])))\n",
    "X_test[0]"
   ]
  },
  {
   "cell_type": "code",
   "execution_count": null,
   "metadata": {},
   "outputs": [],
   "source": [
    "# changing data to float\n",
    "X_training = X_training.astype('float32')\n",
    "X_test = X_test.astype('float32')"
   ]
  },
  {
   "cell_type": "code",
   "execution_count": null,
   "metadata": {},
   "outputs": [],
   "source": [
    "# Normalization \n",
    "X_training /= 255\n",
    "X_test /= 255"
   ]
  },
  {
   "cell_type": "code",
   "execution_count": null,
   "metadata": {},
   "outputs": [],
   "source": [
    "# transforming to dummy\n",
    "y_training = np_utils.to_categorical(y_training, 10)\n",
    "y_test = np_utils.to_categorical(y_test, 10)\n",
    "y_test[0]"
   ]
  },
  {
   "cell_type": "code",
   "execution_count": null,
   "metadata": {},
   "outputs": [],
   "source": [
    "# neural network structure  784 - 64 - 64 - 64 - 10\n",
    "# Use dropout to reset neuron, avoid overfitting \n",
    "model = Sequential()\n",
    "model.add(Dense(units = 64, activation = 'relu', input_dim = 784))\n",
    "model.add(Dropout(0.2))\n",
    "model.add(Dense(units = 64, activation = 'relu'))\n",
    "model.add(Dropout(0.2))\n",
    "model.add(Dense(units = 64, activation = 'relu'))\n",
    "model.add(Dropout(0.2))\n",
    "#exit layer \n",
    "model.add(Dense(units = 10, activation = 'softmax'))"
   ]
  },
  {
   "cell_type": "code",
   "execution_count": null,
   "metadata": {},
   "outputs": [],
   "source": [
    "# neural network structure \n",
    "model.summary()"
   ]
  },
  {
   "cell_type": "code",
   "execution_count": null,
   "metadata": {},
   "outputs": [],
   "source": [
    "# configure parameters and training\n",
    "# at storic we have all the past executions\n",
    "model.compile(optimizer = 'adam', loss = 'categorical_crossentropy',\n",
    "               metrics = ['accuracy'])\n",
    "historic = model.fit(X_training, y_training, epochs = 20,\n",
    "                       validation_data = (X_test, y_test))"
   ]
  },
  {
   "cell_type": "code",
   "execution_count": null,
   "metadata": {},
   "outputs": [],
   "source": [
    "# error and accuracy chart \n",
    "historic.history.keys()\n",
    "#error evolution \n",
    "plt.plot(historic.history['val_loss'])\n",
    "#performance\n",
    "plt.plot(historic.history['val_accuracy'])"
   ]
  },
  {
   "cell_type": "code",
   "execution_count": null,
   "metadata": {},
   "outputs": [],
   "source": [
    "# previsions\n",
    "previsions = model.predict(X_test)\n",
    "previsions"
   ]
  },
  {
   "cell_type": "code",
   "execution_count": null,
   "metadata": {},
   "outputs": [],
   "source": [
    "# confusion matrix generation valor máximo (com a probabilidade maior por serem 10 saídas) e geração da matriz de confusão\n",
    "y_test_matriz = [np.argmax(t) for t in y_test]\n",
    "y_previsions_matriz = [np.argmax(t) for t in previsions]\n",
    "confusion = confusion_matrix(y_test_matriz, y_previsions_matriz)\n",
    "confusion"
   ]
  },
  {
   "cell_type": "code",
   "execution_count": null,
   "metadata": {},
   "outputs": [],
   "source": [
    "# predictin a new register , converting matrix to vector\n",
    "#number 4\n",
    "y_training[20]"
   ]
  },
  {
   "cell_type": "code",
   "execution_count": null,
   "metadata": {},
   "outputs": [],
   "source": [
    "#pass same position to model \n",
    "new = X_training[20]\n",
    "#form matrix to vector\n",
    "new = np.expand_dims(new, axis = 0)\n",
    "#prediction\n",
    "pred = model.predict(new)\n",
    "#higher value\n",
    "pred = [np.argmax(pred) for t in pred]\n",
    "pred"
   ]
  }
 ],
 "metadata": {
  "jupytext": {
   "cell_metadata_filter": "-all",
   "main_language": "python",
   "notebook_metadata_filter": "-all"
  },
  "kernelspec": {
   "display_name": "Python 3",
   "language": "python",
   "name": "python3"
  },
  "language_info": {
   "codemirror_mode": {
    "name": "ipython",
    "version": 3
   },
   "file_extension": ".py",
   "mimetype": "text/x-python",
   "name": "python",
   "nbconvert_exporter": "python",
   "pygments_lexer": "ipython3",
   "version": "3.7.6"
  }
 },
 "nbformat": 4,
 "nbformat_minor": 4
}
