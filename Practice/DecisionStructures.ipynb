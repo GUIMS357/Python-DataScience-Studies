{
 "cells": [
  {
   "cell_type": "code",
   "execution_count": null,
   "metadata": {},
   "outputs": [],
   "source": [
    "grade = 7\n",
    "if grade >= 7:\n",
    "\tprint(\"aproved\")\n",
    "else:\n",
    "\tprint(\"disapproved\")"
   ]
  },
  {
   "cell_type": "code",
   "execution_count": null,
   "metadata": {},
   "outputs": [],
   "source": [
    "#change variable name\n",
    "grade = 5\n",
    "if grade >= 7:\n",
    "\tprint(\"aproved\")\n",
    "else:\n",
    "\tprint(\"disapproved\")"
   ]
  },
  {
   "cell_type": "code",
   "execution_count": null,
   "metadata": {},
   "outputs": [],
   "source": [
    "#Test with 4,5 e 7\n",
    "grade = 7\n",
    "if grade <= 4:\n",
    "\tprint(\"disapproved\")\n",
    "elif grade > 4 and grade <=6:\n",
    "\tprint(\"Exam\")\n",
    "else:\n",
    "\tprint(\"aproved\")\n"
   ]
  }
 ],
 "metadata": {
  "kernelspec": {
   "display_name": "Python 3",
   "language": "python",
   "name": "python3"
  },
  "language_info": {
   "codemirror_mode": {
    "name": "ipython",
    "version": 3
   },
   "file_extension": ".py",
   "mimetype": "text/x-python",
   "name": "python",
   "nbconvert_exporter": "python",
   "pygments_lexer": "ipython3",
   "version": "3.7.6"
  }
 },
 "nbformat": 4,
 "nbformat_minor": 4
}
