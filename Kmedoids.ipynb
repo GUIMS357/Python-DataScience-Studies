{
 "cells": [
  {
   "cell_type": "code",
   "execution_count": null,
   "metadata": {},
   "outputs": [],
   "source": [
    "# lib import\n",
    "from sklearn import datasets\n",
    "from sklearn.metrics import confusion_matrix\n",
    "import numpy as np\n",
    "from pyclustering.cluster.kmedoids import kmedoids\n",
    "from pyclustering.cluster import cluster_visualizer\n",
    "#pip install pyclustering (executar no Anaconda Prompt)"
   ]
  },
  {
   "cell_type": "code",
   "execution_count": null,
   "metadata": {},
   "outputs": [],
   "source": [
    "# load dataset \n",
    "iris = datasets.load_iris()"
   ]
  },
  {
   "cell_type": "code",
   "execution_count": null,
   "metadata": {},
   "outputs": [],
   "source": [
    "# Kmedoids parameter config \n",
    "# 3, 12 and  20 are random indexes\n",
    "cluster = kmedoids(iris.data[:, 0:2], [3, 12, 20])\n",
    "# visualizatioin of the points choosed\n",
    "cluster.get_medoids()"
   ]
  },
  {
   "cell_type": "code",
   "execution_count": null,
   "metadata": {},
   "outputs": [],
   "source": [
    "# algorithim aplication for grouping previsions and visualization of Medoides\n",
    "cluster.process()\n",
    "previsions = cluster.get_clusters()\n",
    "medoides = cluster.get_medoids()\n",
    "#l3 elements list with culster registers \n",
    "previsions"
   ]
  },
  {
   "cell_type": "code",
   "execution_count": null,
   "metadata": {},
   "outputs": [],
   "source": [
    "# grouping view\n",
    "v = cluster_visualizer()\n",
    "v.append_clusters(previsions, iris.data[:,0:2])\n",
    "v.append_cluster(medoides, data = iris.data[:,0:2], marker = '*', markersize = 20)\n",
    "v.show()"
   ]
  },
  {
   "cell_type": "code",
   "execution_count": null,
   "metadata": {},
   "outputs": [],
   "source": [
    "# creating both lists onde with original data and the other with group values \n",
    "# to before see the contingency matrix\n",
    "previsions_list = []\n",
    "real_list = []\n",
    "for i in range(len(previsions)):\n",
    "     for j in range(len(previsions[i])):\n",
    "        previsions_list.append(i)\n",
    "        real_list.append(iris.target[previsions[i][j]])"
   ]
  },
  {
   "cell_type": "code",
   "execution_count": null,
   "metadata": {
    "lines_to_next_cell": 2
   },
   "outputs": [],
   "source": [
    "# generating contigency matrix and comparing real data with groups generated \n",
    "previsions_list = np.asarray(previsions_list)\n",
    "real_list = np.asarray(real_list)\n",
    "results = confusion_matrix(real_list, previsions_list)\n",
    "results"
   ]
  }
 ],
 "metadata": {
  "jupytext": {
   "cell_metadata_filter": "-all",
   "main_language": "python",
   "notebook_metadata_filter": "-all"
  },
  "kernelspec": {
   "display_name": "Python 3",
   "language": "python",
   "name": "python3"
  },
  "language_info": {
   "codemirror_mode": {
    "name": "ipython",
    "version": 3
   },
   "file_extension": ".py",
   "mimetype": "text/x-python",
   "name": "python",
   "nbconvert_exporter": "python",
   "pygments_lexer": "ipython3",
   "version": "3.7.6"
  }
 },
 "nbformat": 4,
 "nbformat_minor": 4
}
