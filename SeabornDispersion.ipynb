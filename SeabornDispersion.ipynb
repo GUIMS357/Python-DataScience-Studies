{
 "cells": [
  {
   "cell_type": "code",
   "execution_count": null,
   "metadata": {},
   "outputs": [],
   "source": [
    "# impor libraries\n",
    "import pandas as pd\n",
    "import seaborn as srn\n",
    "import matplotlib.pyplot as plt"
   ]
  },
  {
   "cell_type": "code",
   "execution_count": null,
   "metadata": {},
   "outputs": [],
   "source": [
    "# Loading database\n",
    "base = pd.read_csv('co2.csv')\n",
    "base.head()"
   ]
  },
  {
   "cell_type": "code",
   "execution_count": null,
   "metadata": {},
   "outputs": [],
   "source": [
    "# dispersion chart using conc and uptake, grouping by type \n",
    "srn.scatterplot(base.conc, base.uptake, hue = base.Type)"
   ]
  },
  {
   "cell_type": "code",
   "execution_count": null,
   "metadata": {},
   "outputs": [],
   "source": [
    "# selecting specific registers inside the Dataset\n",
    "q = base.loc[base['Type'] == 'Quebec']\n",
    "m = base.loc[base['Type'] == 'Mississippi']"
   ]
  },
  {
   "cell_type": "code",
   "execution_count": null,
   "metadata": {},
   "outputs": [],
   "source": [
    "# subchart ( i line 2 columns showing charts about each region \n",
    "plt.figure()\n",
    "plt.subplot(1,2,1)\n",
    "srn.scatterplot(q.conc, q.uptake).set_title('Quebec')\n",
    "plt.subplot(1,2,2)\n",
    "srn.scatterplot(m.conc, m.uptake).set_title('Mississippi')\n",
    "plt.tight_layout()"
   ]
  },
  {
   "cell_type": "code",
   "execution_count": null,
   "metadata": {},
   "outputs": [],
   "source": [
    "# chillend and nonchilled\n",
    "ch = base.loc[base['Treatment'] == 'chilled']\n",
    "nc = base.loc[base['Treatment'] == 'nonchilled']"
   ]
  },
  {
   "cell_type": "code",
   "execution_count": null,
   "metadata": {},
   "outputs": [],
   "source": [
    "# char only with chilled and nonchilled\n",
    "plt.figure()\n",
    "plt.subplot(1,2,1)\n",
    "srn.scatterplot(ch.conc, ch.uptake).set_title('Chilled')\n",
    "plt.subplot(1,2,2)\n",
    "srn.scatterplot(nc.conc, nc.uptake).set_title('Non chilled')\n",
    "plt.tight_layout()"
   ]
  },
  {
   "cell_type": "code",
   "execution_count": null,
   "metadata": {},
   "outputs": [],
   "source": [
    "# Loading file about esophagus cancer \n",
    "base2 = pd.read_csv('esoph.csv')\n",
    "base2"
   ]
  },
  {
   "cell_type": "code",
   "execution_count": null,
   "metadata": {},
   "outputs": [],
   "source": [
    "# chart with 'alcgp' and 'ncontrols' attribute\n",
    "srn.catplot(x = 'alcgp', y = 'ncontrols', data = base2, jitter = False)"
   ]
  },
  {
   "cell_type": "code",
   "execution_count": null,
   "metadata": {},
   "outputs": [],
   "source": [
    "#chart with 'alcgp' and 'ncontrols' attribute grouping by\n",
    "srn.catplot(x = 'alcgp', y = 'ncontrols', data = base2, col = 'tobgp')"
   ]
  }
 ],
 "metadata": {
  "jupytext": {
   "cell_metadata_filter": "-all",
   "main_language": "python",
   "notebook_metadata_filter": "-all"
  },
  "kernelspec": {
   "display_name": "Python 3",
   "language": "python",
   "name": "python3"
  },
  "language_info": {
   "codemirror_mode": {
    "name": "ipython",
    "version": 3
   },
   "file_extension": ".py",
   "mimetype": "text/x-python",
   "name": "python",
   "nbconvert_exporter": "python",
   "pygments_lexer": "ipython3",
   "version": "3.7.6"
  }
 },
 "nbformat": 4,
 "nbformat_minor": 4
}
