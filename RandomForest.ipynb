{
 "cells": [
  {
   "cell_type": "code",
   "execution_count": null,
   "metadata": {},
   "outputs": [],
   "source": [
    "# lib import \n",
    "import pandas as pd\n",
    "from sklearn.model_selection import train_test_split\n",
    "from sklearn.preprocessing import LabelEncoder\n",
    "from sklearn.metrics import confusion_matrix, accuracy_score\n",
    "from sklearn.ensemble import RandomForestClassifier"
   ]
  },
  {
   "cell_type": "code",
   "execution_count": null,
   "metadata": {},
   "outputs": [],
   "source": [
    "# loading database and creating previsors \n",
    "credit = pd.read_csv('Credit.csv')\n",
    "credit.head()"
   ]
  },
  {
   "cell_type": "code",
   "execution_count": null,
   "metadata": {},
   "outputs": [],
   "source": [
    "predictors = credit.iloc[:,0:20].values\n",
    "vclass = credit.iloc[:,20].values"
   ]
  },
  {
   "cell_type": "code",
   "execution_count": null,
   "metadata": {},
   "outputs": [],
   "source": [
    "# categorical to numeric transformtaion\n",
    "labelencoder = LabelEncoder()\n",
    "predictors[:,0] = labelencoder.fit_transform(predictors[:,0])\n",
    "predictors[:,2] = labelencoder.fit_transform(predictors[:,2])\n",
    "predictors[:, 3] = labelencoder.fit_transform(predictors[:, 3])\n",
    "predictors[:, 5] = labelencoder.fit_transform(predictors[:, 5])\n",
    "predictors[:, 6] = labelencoder.fit_transform(predictors[:, 6])\n",
    "predictors[:, 8] = labelencoder.fit_transform(predictors[:, 8])\n",
    "predictors[:, 9] = labelencoder.fit_transform(predictors[:, 9])\n",
    "predictors[:, 11] = labelencoder.fit_transform(predictors[:, 11])\n",
    "predictors[:, 13] = labelencoder.fit_transform(predictors[:, 13])\n",
    "predictors[:, 14] = labelencoder.fit_transform(predictors[:, 14])\n",
    "predictors[:, 16] = labelencoder.fit_transform(predictors[:, 16])\n",
    "predictors[:, 18] = labelencoder.fit_transform(predictors[:, 18])\n",
    "predictors[:, 19] = labelencoder.fit_transform(predictors[:, 19])"
   ]
  },
  {
   "cell_type": "code",
   "execution_count": null,
   "metadata": {},
   "outputs": [],
   "source": [
    "# 70/30 split\n",
    "X_training, X_test, y_training, y_test = train_test_split(predictors,\n",
    "                                                                  vclass,\n",
    "                                                                  test_size = 0.3,\n",
    "                                                                  random_state = 0)"
   ]
  },
  {
   "cell_type": "code",
   "execution_count": null,
   "metadata": {},
   "outputs": [],
   "source": [
    "# creaintg and traning model, predicitons and hitrate \n",
    "forest = RandomForestClassifier(n_estimators = 100)\n",
    "forest.fit(X_training, y_training)"
   ]
  },
  {
   "cell_type": "code",
   "execution_count": null,
   "metadata": {},
   "outputs": [],
   "source": [
    "# most important attributes view\n",
    "forest.estimators_\n",
    "#forest.estimators_[1]"
   ]
  },
  {
   "cell_type": "code",
   "execution_count": null,
   "metadata": {},
   "outputs": [],
   "source": [
    "prevision = forest.predict(X_test)\n",
    "confusion = confusion_matrix(y_test, prevision)\n",
    "hitrate = accuracy_score(y_test, prevision)\n",
    "hitrate"
   ]
  }
 ],
 "metadata": {
  "jupytext": {
   "cell_metadata_filter": "-all",
   "main_language": "python",
   "notebook_metadata_filter": "-all"
  },
  "kernelspec": {
   "display_name": "Python 3",
   "language": "python",
   "name": "python3"
  },
  "language_info": {
   "codemirror_mode": {
    "name": "ipython",
    "version": 3
   },
   "file_extension": ".py",
   "mimetype": "text/x-python",
   "name": "python",
   "nbconvert_exporter": "python",
   "pygments_lexer": "ipython3",
   "version": "3.7.6"
  }
 },
 "nbformat": 4,
 "nbformat_minor": 4
}
