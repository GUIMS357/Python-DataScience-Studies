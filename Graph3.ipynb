{
 "cells": [
  {
   "cell_type": "code",
   "execution_count": 1,
   "metadata": {},
   "outputs": [],
   "source": [
    "# lib import\n",
    "from igraph import Graph\n",
    "from igraph import plot"
   ]
  },
  {
   "cell_type": "code",
   "execution_count": 2,
   "metadata": {},
   "outputs": [],
   "source": [
    "# recreating 4th graph\n",
    "graph4 = Graph(directed = False)\n",
    "graph4.add_vertices(5)\n",
    "graph4.add_edges([(0,1),(1,2),(2,3),(3,4),(4,0),(0,2),(2,1)])\n",
    "graph4.add_vertex(5)\n",
    "graph4.add_vertex(6)\n",
    "graph4.vs['label'] = ['A', 'B', 'C', 'D', 'E', 'F', 'G']\n",
    "graph4.vs['name'] = ['A', 'B', 'C', 'D', 'E', 'F', 'G']"
   ]
  },
  {
   "cell_type": "code",
   "execution_count": null,
   "metadata": {},
   "outputs": [],
   "source": [
    "# adjacency matrix print \n",
    "print(graph4.get_adjacency())"
   ]
  },
  {
   "cell_type": "code",
   "execution_count": null,
   "metadata": {},
   "outputs": [],
   "source": [
    "# line\n",
    "graph4.get_adjacency()[0,]"
   ]
  },
  {
   "cell_type": "code",
   "execution_count": null,
   "metadata": {},
   "outputs": [],
   "source": [
    "#line and column\n",
    "graph4.get_adjacency()[0,1]"
   ]
  },
  {
   "cell_type": "code",
   "execution_count": null,
   "metadata": {},
   "outputs": [],
   "source": [
    "# loop structure to run through every vertex vizualizing name and label \n",
    "for v in graph4.vs:\n",
    "   print(v) "
   ]
  },
  {
   "cell_type": "code",
   "execution_count": null,
   "metadata": {},
   "outputs": [],
   "source": [
    "plot(graph4, bbox=(0,0,300,300))"
   ]
  },
  {
   "cell_type": "code",
   "execution_count": null,
   "metadata": {},
   "outputs": [],
   "source": [
    "# creating a graph with weights in edges \n",
    "graph5 = Graph(edges = [(0,1),(2,3),(0,2),(0,3)], directed = True)\n",
    "graph5.vs['label'] = ['Fernando', 'Pedro', 'Jose', 'Antonio']\n",
    "graph5.vs['weight'] = [40,30,30,25]\n",
    "print(graph5)"
   ]
  },
  {
   "cell_type": "code",
   "execution_count": null,
   "metadata": {},
   "outputs": [],
   "source": [
    "# run through vertexes to see the weigths\n",
    "for v in graph5.vs:\n",
    "    print(v)"
   ]
  },
  {
   "cell_type": "code",
   "execution_count": null,
   "metadata": {},
   "outputs": [],
   "source": [
    "graph5.vs[0]"
   ]
  },
  {
   "cell_type": "code",
   "execution_count": null,
   "metadata": {},
   "outputs": [],
   "source": [
    "# friendship types and weights of them \n",
    "graph5.es['friendshiptype'] = ['friend', 'enemy', 'enemy', 'friend']\n",
    "graph5.es['weight'] = [1,2,1,3]\n",
    "print(graph5)"
   ]
  },
  {
   "cell_type": "code",
   "execution_count": null,
   "metadata": {},
   "outputs": [],
   "source": [
    "# run through vertexes, friendship type \n",
    "for e in graph5.es:\n",
    "    print(e)"
   ]
  },
  {
   "cell_type": "code",
   "execution_count": null,
   "metadata": {},
   "outputs": [],
   "source": [
    "#properties and value of a position \n",
    "graph5.es[0]"
   ]
  },
  {
   "cell_type": "code",
   "execution_count": null,
   "metadata": {},
   "outputs": [],
   "source": [
    "# frienship types\n",
    "graph5.es['friendshiptype']"
   ]
  },
  {
   "cell_type": "code",
   "execution_count": null,
   "metadata": {},
   "outputs": [],
   "source": [
    "print(graph5)"
   ]
  },
  {
   "cell_type": "code",
   "execution_count": null,
   "metadata": {},
   "outputs": [],
   "source": [
    "# changing relation in an existent graph\n",
    "graph5.vs['type'] = 'humans'\n",
    "graph5.vs['name'] = 'friendships'\n",
    "print(graph5)\n",
    "plot(graph5, bbox=(0,0,300,300))\n"
   ]
  }
 ],
 "metadata": {
  "jupytext": {
   "cell_metadata_filter": "-all",
   "main_language": "python",
   "notebook_metadata_filter": "-all"
  },
  "kernelspec": {
   "display_name": "Python 3",
   "language": "python",
   "name": "python3"
  },
  "language_info": {
   "codemirror_mode": {
    "name": "ipython",
    "version": 3
   },
   "file_extension": ".py",
   "mimetype": "text/x-python",
   "name": "python",
   "nbconvert_exporter": "python",
   "pygments_lexer": "ipython3",
   "version": "3.10.1"
  }
 },
 "nbformat": 4,
 "nbformat_minor": 4
}
