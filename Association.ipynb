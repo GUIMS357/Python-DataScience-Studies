{
 "cells": [
  {
   "cell_type": "code",
   "execution_count": 44,
   "metadata": {},
   "outputs": [],
   "source": [
    "# lib import\n",
    "import pandas as pd\n",
    "from apyori import apriori\n",
    "#pip install apyori (executar no Anaconda Prompt)"
   ]
  },
  {
   "cell_type": "code",
   "execution_count": null,
   "metadata": {},
   "outputs": [],
   "source": [
    "# transactions read\n",
    "dados = pd.read_csv('Transactions.txt', header = None)\n",
    "dados"
   ]
  },
  {
   "cell_type": "code",
   "execution_count": null,
   "metadata": {},
   "outputs": [],
   "source": [
    "#transforming to list because apyori only accepts this format to that type os quest\n",
    "transactions = []\n",
    "for i in range(0,6):\n",
    "    transactions.append([str(dados.values[i,j]) for j in range(0,3)])\n",
    "transactions"
   ]
  },
  {
   "cell_type": "code",
   "execution_count": 47,
   "metadata": {},
   "outputs": [],
   "source": [
    "# executing apyori algorithim to generate association rules and define the trust parameters \n",
    "regras = apriori(transactions, min_support = 0.5, min_confidence = 0.5,min_length=2)"
   ]
  },
  {
   "cell_type": "code",
   "execution_count": null,
   "metadata": {},
   "outputs": [],
   "source": [
    "# creating a new variable to store association rules\n",
    "results = list(regras)\n",
    "print(results[0])\n",
    "results"
   ]
  },
  {
   "cell_type": "code",
   "execution_count": null,
   "metadata": {},
   "outputs": [],
   "source": [
    "# creating a new variable to see the results in a better way \n",
    "results2 = [list(x) for x in results]\n",
    "results2"
   ]
  },
  {
   "cell_type": "code",
   "execution_count": null,
   "metadata": {},
   "outputs": [],
   "source": [
    "# creating a new variable to show easily to the user  and add rules found the past test\n",
    "results3 = []\n",
    "for j in range(0,7):\n",
    "    results3.append([list(x) for x in results2[j][2]])\n",
    "results3"
   ]
  }
 ],
 "metadata": {
  "jupytext": {
   "cell_metadata_filter": "-all",
   "main_language": "python",
   "notebook_metadata_filter": "-all"
  },
  "kernelspec": {
   "display_name": "Python 3",
   "language": "python",
   "name": "python3"
  },
  "language_info": {
   "codemirror_mode": {
    "name": "ipython",
    "version": 3
   },
   "file_extension": ".py",
   "mimetype": "text/x-python",
   "name": "python",
   "nbconvert_exporter": "python",
   "pygments_lexer": "ipython3",
   "version": "3.7.6"
  }
 },
 "nbformat": 4,
 "nbformat_minor": 4
}
