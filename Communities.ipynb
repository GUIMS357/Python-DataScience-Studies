{
 "cells": [
  {
   "cell_type": "code",
   "execution_count": null,
   "metadata": {},
   "outputs": [],
   "source": [
    "# Lib import\n",
    "from igraph import Graph\n",
    "from igraph import plot\n",
    "import igraph\n",
    "import numpy as np"
   ]
  },
  {
   "cell_type": "code",
   "execution_count": null,
   "metadata": {},
   "outputs": [],
   "source": [
    "# laoding graph in graphml format \n",
    "graph = igraph.load('Grafo.graphml')\n",
    "print(graph)"
   ]
  },
  {
   "cell_type": "code",
   "execution_count": null,
   "metadata": {},
   "outputs": [],
   "source": [
    "# graph visualization\n",
    "plot(graph, bbox = (0,0,600,600))"
   ]
  },
  {
   "cell_type": "code",
   "execution_count": null,
   "metadata": {},
   "outputs": [],
   "source": [
    "# visualization of communities\n",
    "communities = graph.clusters()\n",
    "print(communities)"
   ]
  },
  {
   "cell_type": "code",
   "execution_count": null,
   "metadata": {},
   "outputs": [],
   "source": [
    "# visualization of in what communitie the register was assigned \n",
    "communities.membership"
   ]
  },
  {
   "cell_type": "code",
   "execution_count": null,
   "metadata": {},
   "outputs": [],
   "source": [
    "# visualization of the graph\n",
    "colors = communities.membership\n",
    "# color array to attribute a dofferent color to each group\n",
    "colors = np.array(colors)\n",
    "colors = colors * 20\n",
    "colors = colors.tolist()\n",
    "plot(graph, vertex_color = colors)"
   ]
  },
  {
   "cell_type": "code",
   "execution_count": null,
   "metadata": {},
   "outputs": [],
   "source": [
    "# creating a directional graph with weights in the edges \n",
    "graph2 = Graph(edges = [(0,2),(0,1),(1,4),(1,5),(2,3),(6,7),(3,7),(4,7),(5,6)],\n",
    "                       directed = True)\n",
    "graph2.vs['label'] = ['A', 'B', 'C', 'D', 'E', 'F', 'G', 'H']\n",
    "graph2.es['weight'] = [2,1,2,1,2,1,3,1]"
   ]
  },
  {
   "cell_type": "code",
   "execution_count": null,
   "metadata": {},
   "outputs": [],
   "source": [
    "# visualization of the graph\n",
    "plot(graph2, bbox = (0,0,300,300))"
   ]
  },
  {
   "cell_type": "code",
   "execution_count": null,
   "metadata": {},
   "outputs": [],
   "source": [
    "# visualization of the communities and in what communitie the register was assigned\n",
    "communities2 = graph2.clusters()\n",
    "print(communities2)\n",
    "communities2.membership"
   ]
  },
  {
   "cell_type": "code",
   "execution_count": null,
   "metadata": {},
   "outputs": [],
   "source": [
    "# optimized function to visualization communities \n",
    "c = graph2.community_edge_betweenness()\n",
    "print(c)\n",
    "# cluster number \n",
    "c.optimal_count\n",
    "# visualization of the new communitie\n",
    "communities3 = c.as_clustering()\n",
    "print(communities3)\n",
    "communities3.membership"
   ]
  },
  {
   "cell_type": "code",
   "execution_count": null,
   "metadata": {},
   "outputs": [],
   "source": [
    "# generating communities graph with different colors between the groups\n",
    "plot(graph2, vertex_color = communities3.membership)\n",
    "colors = communities3.membership\n",
    "# color array to attribute a dofferent color to each group\n",
    "colors = np.array(colors)\n",
    "colors = colors * 100\n",
    "colors = colors.tolist()"
   ]
  },
  {
   "cell_type": "code",
   "execution_count": null,
   "metadata": {},
   "outputs": [],
   "source": [
    "plot(graph2, bbox = (0,0,300,300), vertex_color = colors)"
   ]
  },
  {
   "cell_type": "code",
   "execution_count": null,
   "metadata": {
    "lines_to_next_cell": 2
   },
   "outputs": [],
   "source": [
    "# visualization of the clicks\n",
    "cli = graph.as_undirected().cliques(min = 4)\n",
    "print(cli)\n",
    "len(cli)"
   ]
  }
 ],
 "metadata": {
  "jupytext": {
   "cell_metadata_filter": "-all",
   "main_language": "python",
   "notebook_metadata_filter": "-all"
  },
  "kernelspec": {
   "display_name": "Python 3",
   "language": "python",
   "name": "python3"
  },
  "language_info": {
   "codemirror_mode": {
    "name": "ipython",
    "version": 3
   },
   "file_extension": ".py",
   "mimetype": "text/x-python",
   "name": "python",
   "nbconvert_exporter": "python",
   "pygments_lexer": "ipython3",
   "version": "3.7.6"
  }
 },
 "nbformat": 4,
 "nbformat_minor": 4
}
